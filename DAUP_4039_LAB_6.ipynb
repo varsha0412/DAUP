{
  "nbformat": 4,
  "nbformat_minor": 0,
  "metadata": {
    "colab": {
      "provenance": []
    },
    "kernelspec": {
      "name": "python3",
      "display_name": "Python 3"
    },
    "language_info": {
      "name": "python"
    }
  },
  "cells": [
    {
      "cell_type": "code",
      "execution_count": 1,
      "metadata": {
        "colab": {
          "base_uri": "https://localhost:8080/"
        },
        "id": "40aSGH1tLfXw",
        "outputId": "01130836-17d1-4ef9-cab1-67eb5ccb1dce"
      },
      "outputs": [
        {
          "output_type": "stream",
          "name": "stdout",
          "text": [
            "P(A) = 0.5010\n",
            "P(B) = 0.3110\n",
            "P(A ∪ B) = 0.6400\n",
            "P(A ∩ B) = 0.1720\n",
            "P(A | B) = 0.5531\n",
            "P(Health & Beauty) = 0.0000\n",
            "P(More than 5 items | Ewallet) = 0.4870\n",
            "P(Cash | Yangon) = 0.3235\n",
            "P(Member & Rating > 8) = 0.1570\n"
          ]
        }
      ],
      "source": [
        "import pandas as pd\n",
        "from math import factorial\n",
        "from itertools import permutations, combinations\n",
        "file_path = \"/content/supermarket_sales -.csv\"\n",
        "df = pd.read_csv(file_path)\n",
        "df.columns = df.columns.str.lower()\n",
        "total_transactions = len(df)\n",
        "count_A = len(df[df['customer type'] == 'Member'])\n",
        "P_A = count_A / total_transactions\n",
        "count_B = len(df[df['payment'] == 'Credit card'])\n",
        "P_B = count_B / total_transactions\n",
        "count_A_and_B = len(df[(df['customer type'] == 'Member') & (df['payment'] == 'Credit card')])\n",
        "P_A_intersect_B = count_A_and_B / total_transactions\n",
        "\n",
        "P_A_union_B = P_A + P_B - P_A_intersect_B\n",
        "\n",
        "P_A_given_B = P_A_intersect_B / P_B if P_B != 0 else 0\n",
        "\n",
        "P_health_beauty = len(df[df['product line'] == 'Health & Beauty']) / total_transactions\n",
        "\n",
        "ewallet_df = df[df['payment'] == 'Ewallet']\n",
        "P_more_than_5_given_ewallet = len(ewallet_df[ewallet_df['quantity'] > 5]) / len(ewallet_df)\n",
        "\n",
        "yangon_df = df[df['city'] == 'Yangon']\n",
        "P_cash_given_yangon = len(yangon_df[yangon_df['payment'] == 'Cash']) / len(yangon_df)\n",
        "\n",
        "P_member_high_rating = len(df[(df['customer type'] == 'Member') & (df['rating'] > 8)]) / total_transactions\n",
        "\n",
        "print(f\"P(A) = {P_A:.4f}\")\n",
        "print(f\"P(B) = {P_B:.4f}\")\n",
        "print(f\"P(A ∪ B) = {P_A_union_B:.4f}\")\n",
        "print(f\"P(A ∩ B) = {P_A_intersect_B:.4f}\")\n",
        "print(f\"P(A | B) = {P_A_given_B:.4f}\")\n",
        "print(f\"P(Health & Beauty) = {P_health_beauty:.4f}\")\n",
        "print(f\"P(More than 5 items | Ewallet) = {P_more_than_5_given_ewallet:.4f}\")\n",
        "print(f\"P(Cash | Yangon) = {P_cash_given_yangon:.4f}\")\n",
        "print(f\"P(Member & Rating > 8) = {P_member_high_rating:.4f}\")"
      ]
    },
    {
      "cell_type": "code",
      "source": [
        "def compute_factorial(n):\n",
        "    return factorial(n)\n",
        "\n",
        "def compute_permutation(n, r):\n",
        "    return factorial(n) // factorial(n - r)\n",
        "\n",
        "def compute_combination(n, r):\n",
        "    return factorial(n) // (factorial(r) * factorial(n - r))\n",
        "\n",
        "ways_to_arrange_5_transactions = compute_permutation(20, 5)\n",
        "\n",
        "ways_to_select_3_product_lines = compute_combination(6, 3)\n",
        "\n",
        "num_branches = df['branch'].nunique()\n",
        "branch_factorial = compute_factorial(num_branches)\n",
        "\n",
        "ways_to_display_4_from_3 = compute_permutation(3, 4) if 4 <= 3 else \"Not Possible\"\n",
        "\n",
        "ways_to_select_5_employees = compute_combination(15, 5)\n",
        "\n",
        "ways_to_create_invoice_codes = compute_permutation(26, 6)\n",
        "\n",
        "print(f\"Ways to arrange 5 transactions: {ways_to_arrange_5_transactions}\")\n",
        "print(f\"Ways to select 3 product lines: {ways_to_select_3_product_lines}\")\n",
        "print(f\"Factorial of number of branches: {branch_factorial}\")\n",
        "print(f\"Ways to display 4 payment methods from 3: {ways_to_display_4_from_3}\")\n",
        "print(f\"Ways to select 5 employees: {ways_to_select_5_employees}\")\n",
        "print(f\"Ways to create invoice codes: {ways_to_create_invoice_codes}\")"
      ],
      "metadata": {
        "colab": {
          "base_uri": "https://localhost:8080/"
        },
        "id": "Y26RXoXVLt1u",
        "outputId": "6daa356b-eb0c-4018-c269-992ce5167b81"
      },
      "execution_count": 2,
      "outputs": [
        {
          "output_type": "stream",
          "name": "stdout",
          "text": [
            "Ways to arrange 5 transactions: 1860480\n",
            "Ways to select 3 product lines: 20\n",
            "Factorial of number of branches: 6\n",
            "Ways to display 4 payment methods from 3: Not Possible\n",
            "Ways to select 5 employees: 3003\n",
            "Ways to create invoice codes: 165765600\n"
          ]
        }
      ]
    }
  ]
}